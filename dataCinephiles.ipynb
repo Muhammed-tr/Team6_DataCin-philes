{
 "cells": [
  {
   "cell_type": "code",
   "execution_count": 26,
   "metadata": {},
   "outputs": [],
   "source": [
    "import numpy as np\n",
    "import pandas as pd\n",
    "import matplotlib.pyplot as plt\n",
    "import seaborn as sns\n",
    "\n",
    "import warnings\n",
    "warnings.filterwarnings('ignore')"
   ]
  },
  {
   "cell_type": "markdown",
   "metadata": {},
   "source": [
    "DataCinephlies Intermediate Report, Data Preprocess And Experimental Result"
   ]
  },
  {
   "cell_type": "code",
   "execution_count": 27,
   "metadata": {},
   "outputs": [],
   "source": [
    "anime_csv = pd.read_csv(\"anime.csv\")\n",
    "rating_csv = pd.read_csv(\"rating.csv\")"
   ]
  },
  {
   "cell_type": "code",
   "execution_count": 12,
   "metadata": {},
   "outputs": [
    {
     "name": "stdout",
     "output_type": "stream",
     "text": [
      "Rating Info:\n",
      "\n",
      "<class 'pandas.core.frame.DataFrame'>\n",
      "RangeIndex: 7813737 entries, 0 to 7813736\n",
      "Data columns (total 3 columns):\n",
      " #   Column    Dtype\n",
      "---  ------    -----\n",
      " 0   user_id   int64\n",
      " 1   anime_id  int64\n",
      " 2   rating    int64\n",
      "dtypes: int64(3)\n",
      "memory usage: 178.8 MB\n",
      "info with no style.\n"
     ]
    }
   ],
   "source": [
    "# Print Rating Info\n",
    "print(\"Rating Info:\\n\")\n",
    "rating_info = rating_csv.info()\n",
    "\n",
    "if rating_info is not None:\n",
    "    # Define the style for the info table\n",
    "    styled_info = rating_info.style.set_table_styles([\n",
    "        {\"selector\": \"th\", \"props\": [(\"background-color\", \"#2a9d8f\"), (\"color\", \"white\"), (\"border\", \"1.5px solid black\")]},\n",
    "        {\"selector\": \"td\", \"props\": [(\"border\", \"1.5px solid black\")]}\n",
    "    ])\n",
    "    \n",
    "    print(styled_info)\n",
    "else:\n",
    "    print(\"info with no style.\")\n"
   ]
  },
  {
   "cell_type": "code",
   "execution_count": 13,
   "metadata": {},
   "outputs": [
    {
     "name": "stdout",
     "output_type": "stream",
     "text": [
      "Anime Info:\n",
      "\n",
      "<class 'pandas.core.frame.DataFrame'>\n",
      "RangeIndex: 12294 entries, 0 to 12293\n",
      "Data columns (total 7 columns):\n",
      " #   Column    Non-Null Count  Dtype  \n",
      "---  ------    --------------  -----  \n",
      " 0   anime_id  12294 non-null  int64  \n",
      " 1   name      12294 non-null  object \n",
      " 2   genre     12232 non-null  object \n",
      " 3   type      12269 non-null  object \n",
      " 4   episodes  12294 non-null  object \n",
      " 5   rating    12064 non-null  float64\n",
      " 6   members   12294 non-null  int64  \n",
      "dtypes: float64(1), int64(2), object(4)\n",
      "memory usage: 672.5+ KB\n",
      "info with no style.\n"
     ]
    }
   ],
   "source": [
    "# Print Anime Info\n",
    "print(\"Anime Info:\\n\")\n",
    "anime_info = anime_csv.info()\n",
    "\n",
    "if anime_info is not None:\n",
    "    # Define the style for the info table\n",
    "    styled_info = anime_info.style.set_table_styles([\n",
    "        {\"selector\": \"th\", \"props\": [(\"background-color\", \"#2a9d8f\"), (\"color\", \"white\"), (\"border\", \"1.5px solid black\")]},\n",
    "        {\"selector\": \"td\", \"props\": [(\"border\", \"1.5px solid black\")]}\n",
    "    ])\n",
    "    \n",
    "    print(styled_info)\n",
    "else:\n",
    "    print(\"info with no style.\")\n"
   ]
  },
  {
   "cell_type": "code",
   "execution_count": 14,
   "metadata": {},
   "outputs": [
    {
     "name": "stdout",
     "output_type": "stream",
     "text": [
      "Anime Shape is: (12294, 7)\n",
      "\n",
      "Anime Data Head :\n"
     ]
    },
    {
     "data": {
      "text/html": [
       "<div>\n",
       "<style scoped>\n",
       "    .dataframe tbody tr th:only-of-type {\n",
       "        vertical-align: middle;\n",
       "    }\n",
       "\n",
       "    .dataframe tbody tr th {\n",
       "        vertical-align: top;\n",
       "    }\n",
       "\n",
       "    .dataframe thead th {\n",
       "        text-align: right;\n",
       "    }\n",
       "</style>\n",
       "<table border=\"1\" class=\"dataframe\">\n",
       "  <thead>\n",
       "    <tr style=\"text-align: right;\">\n",
       "      <th></th>\n",
       "      <th>anime_id</th>\n",
       "      <th>name</th>\n",
       "      <th>genre</th>\n",
       "      <th>type</th>\n",
       "      <th>episodes</th>\n",
       "      <th>rating</th>\n",
       "      <th>members</th>\n",
       "    </tr>\n",
       "  </thead>\n",
       "  <tbody>\n",
       "    <tr>\n",
       "      <th>0</th>\n",
       "      <td>32281</td>\n",
       "      <td>Kimi no Na wa.</td>\n",
       "      <td>Drama, Romance, School, Supernatural</td>\n",
       "      <td>Movie</td>\n",
       "      <td>1</td>\n",
       "      <td>9.37</td>\n",
       "      <td>200630</td>\n",
       "    </tr>\n",
       "    <tr>\n",
       "      <th>1</th>\n",
       "      <td>5114</td>\n",
       "      <td>Fullmetal Alchemist: Brotherhood</td>\n",
       "      <td>Action, Adventure, Drama, Fantasy, Magic, Mili...</td>\n",
       "      <td>TV</td>\n",
       "      <td>64</td>\n",
       "      <td>9.26</td>\n",
       "      <td>793665</td>\n",
       "    </tr>\n",
       "    <tr>\n",
       "      <th>2</th>\n",
       "      <td>28977</td>\n",
       "      <td>Gintama°</td>\n",
       "      <td>Action, Comedy, Historical, Parody, Samurai, S...</td>\n",
       "      <td>TV</td>\n",
       "      <td>51</td>\n",
       "      <td>9.25</td>\n",
       "      <td>114262</td>\n",
       "    </tr>\n",
       "    <tr>\n",
       "      <th>3</th>\n",
       "      <td>9253</td>\n",
       "      <td>Steins;Gate</td>\n",
       "      <td>Sci-Fi, Thriller</td>\n",
       "      <td>TV</td>\n",
       "      <td>24</td>\n",
       "      <td>9.17</td>\n",
       "      <td>673572</td>\n",
       "    </tr>\n",
       "    <tr>\n",
       "      <th>4</th>\n",
       "      <td>9969</td>\n",
       "      <td>Gintama&amp;#039;</td>\n",
       "      <td>Action, Comedy, Historical, Parody, Samurai, S...</td>\n",
       "      <td>TV</td>\n",
       "      <td>51</td>\n",
       "      <td>9.16</td>\n",
       "      <td>151266</td>\n",
       "    </tr>\n",
       "  </tbody>\n",
       "</table>\n",
       "</div>"
      ],
      "text/plain": [
       "   anime_id                              name  \\\n",
       "0     32281                    Kimi no Na wa.   \n",
       "1      5114  Fullmetal Alchemist: Brotherhood   \n",
       "2     28977                          Gintama°   \n",
       "3      9253                       Steins;Gate   \n",
       "4      9969                     Gintama&#039;   \n",
       "\n",
       "                                               genre   type episodes  rating  \\\n",
       "0               Drama, Romance, School, Supernatural  Movie        1    9.37   \n",
       "1  Action, Adventure, Drama, Fantasy, Magic, Mili...     TV       64    9.26   \n",
       "2  Action, Comedy, Historical, Parody, Samurai, S...     TV       51    9.25   \n",
       "3                                   Sci-Fi, Thriller     TV       24    9.17   \n",
       "4  Action, Comedy, Historical, Parody, Samurai, S...     TV       51    9.16   \n",
       "\n",
       "   members  \n",
       "0   200630  \n",
       "1   793665  \n",
       "2   114262  \n",
       "3   673572  \n",
       "4   151266  "
      ]
     },
     "execution_count": 14,
     "metadata": {},
     "output_type": "execute_result"
    }
   ],
   "source": [
    "print(f\"Anime Shape is: {anime_csv.shape}\")\n",
    "print(f\"\\nAnime Data Head :\")\n",
    "anime_csv.head()"
   ]
  },
  {
   "cell_type": "code",
   "execution_count": 15,
   "metadata": {},
   "outputs": [
    {
     "name": "stdout",
     "output_type": "stream",
     "text": [
      "Rating Shape is: (7813737, 3)\n",
      "\n",
      "Rating Data Head:\n"
     ]
    },
    {
     "data": {
      "text/html": [
       "<style type=\"text/css\">\n",
       "#T_d41ee th {\n",
       "  background-color: #264653;\n",
       "  color: white;\n",
       "  border: 1.5px solid #264653;\n",
       "}\n",
       "#T_d41ee td {\n",
       "  border: 1.5px solid #264653;\n",
       "}\n",
       "</style>\n",
       "<table id=\"T_d41ee\">\n",
       "  <thead>\n",
       "    <tr>\n",
       "      <th class=\"blank level0\" >&nbsp;</th>\n",
       "      <th id=\"T_d41ee_level0_col0\" class=\"col_heading level0 col0\" >user_id</th>\n",
       "      <th id=\"T_d41ee_level0_col1\" class=\"col_heading level0 col1\" >anime_id</th>\n",
       "      <th id=\"T_d41ee_level0_col2\" class=\"col_heading level0 col2\" >rating</th>\n",
       "    </tr>\n",
       "  </thead>\n",
       "  <tbody>\n",
       "    <tr>\n",
       "      <th id=\"T_d41ee_level0_row0\" class=\"row_heading level0 row0\" >0</th>\n",
       "      <td id=\"T_d41ee_row0_col0\" class=\"data row0 col0\" >1</td>\n",
       "      <td id=\"T_d41ee_row0_col1\" class=\"data row0 col1\" >20</td>\n",
       "      <td id=\"T_d41ee_row0_col2\" class=\"data row0 col2\" >-1</td>\n",
       "    </tr>\n",
       "    <tr>\n",
       "      <th id=\"T_d41ee_level0_row1\" class=\"row_heading level0 row1\" >1</th>\n",
       "      <td id=\"T_d41ee_row1_col0\" class=\"data row1 col0\" >1</td>\n",
       "      <td id=\"T_d41ee_row1_col1\" class=\"data row1 col1\" >24</td>\n",
       "      <td id=\"T_d41ee_row1_col2\" class=\"data row1 col2\" >-1</td>\n",
       "    </tr>\n",
       "    <tr>\n",
       "      <th id=\"T_d41ee_level0_row2\" class=\"row_heading level0 row2\" >2</th>\n",
       "      <td id=\"T_d41ee_row2_col0\" class=\"data row2 col0\" >1</td>\n",
       "      <td id=\"T_d41ee_row2_col1\" class=\"data row2 col1\" >79</td>\n",
       "      <td id=\"T_d41ee_row2_col2\" class=\"data row2 col2\" >-1</td>\n",
       "    </tr>\n",
       "    <tr>\n",
       "      <th id=\"T_d41ee_level0_row3\" class=\"row_heading level0 row3\" >3</th>\n",
       "      <td id=\"T_d41ee_row3_col0\" class=\"data row3 col0\" >1</td>\n",
       "      <td id=\"T_d41ee_row3_col1\" class=\"data row3 col1\" >226</td>\n",
       "      <td id=\"T_d41ee_row3_col2\" class=\"data row3 col2\" >-1</td>\n",
       "    </tr>\n",
       "    <tr>\n",
       "      <th id=\"T_d41ee_level0_row4\" class=\"row_heading level0 row4\" >4</th>\n",
       "      <td id=\"T_d41ee_row4_col0\" class=\"data row4 col0\" >1</td>\n",
       "      <td id=\"T_d41ee_row4_col1\" class=\"data row4 col1\" >241</td>\n",
       "      <td id=\"T_d41ee_row4_col2\" class=\"data row4 col2\" >-1</td>\n",
       "    </tr>\n",
       "  </tbody>\n",
       "</table>\n"
      ],
      "text/plain": [
       "<pandas.io.formats.style.Styler at 0x1ecb57a3d90>"
      ]
     },
     "execution_count": 15,
     "metadata": {},
     "output_type": "execute_result"
    }
   ],
   "source": [
    "# Print Rating Shape\n",
    "print(\"Rating Shape is:\", rating_csv.shape)\n",
    "\n",
    "# Print Rating \n",
    "print(\"\\nRating Data Head:\")\n",
    "\n",
    "# Style the head \n",
    "styled_rating_head = rating_csv.head().style.set_table_styles([\n",
    "    {\"selector\": \"th\", \"props\":\n",
    "      [\n",
    "       (\"background-color\", \"#264653\"), \n",
    "       (\"color\", \"white\"), \n",
    "       (\"border\", \"1.5px solid #264653\")\n",
    "      ]},\n",
    "\n",
    "    {\"selector\": \"td\", \"props\": [(\"border\", \"1.5px solid #264653\")]}\n",
    "])\n",
    "# Display\n",
    "styled_rating_head\n"
   ]
  },
  {
   "cell_type": "code",
   "execution_count": 16,
   "metadata": {},
   "outputs": [
    {
     "name": "stdout",
     "output_type": "stream",
     "text": [
      "Summary of The Anime Dataset:\n",
      "\n",
      "Summary for count:\n"
     ]
    },
    {
     "data": {
      "text/html": [
       "<style type=\"text/css\">\n",
       "#T_31889_row0_col0, #T_31889_row1_col0, #T_31889_row2_col0 {\n",
       "  background-color: #264653;\n",
       "  color: white;\n",
       "  border: 1.5px solid #264653;\n",
       "}\n",
       "</style>\n",
       "<table id=\"T_31889\">\n",
       "  <thead>\n",
       "    <tr>\n",
       "      <th class=\"blank level0\" >&nbsp;</th>\n",
       "      <th id=\"T_31889_level0_col0\" class=\"col_heading level0 col0\" >count</th>\n",
       "    </tr>\n",
       "  </thead>\n",
       "  <tbody>\n",
       "    <tr>\n",
       "      <th id=\"T_31889_level0_row0\" class=\"row_heading level0 row0\" >anime_id</th>\n",
       "      <td id=\"T_31889_row0_col0\" class=\"data row0 col0\" >12294.000000</td>\n",
       "    </tr>\n",
       "    <tr>\n",
       "      <th id=\"T_31889_level0_row1\" class=\"row_heading level0 row1\" >rating</th>\n",
       "      <td id=\"T_31889_row1_col0\" class=\"data row1 col0\" >12064.000000</td>\n",
       "    </tr>\n",
       "    <tr>\n",
       "      <th id=\"T_31889_level0_row2\" class=\"row_heading level0 row2\" >members</th>\n",
       "      <td id=\"T_31889_row2_col0\" class=\"data row2 col0\" >12294.000000</td>\n",
       "    </tr>\n",
       "  </tbody>\n",
       "</table>\n"
      ],
      "text/plain": [
       "<pandas.io.formats.style.Styler at 0x1ecb426da10>"
      ]
     },
     "metadata": {},
     "output_type": "display_data"
    },
    {
     "name": "stdout",
     "output_type": "stream",
     "text": [
      "\n",
      "Summary for mean:\n"
     ]
    },
    {
     "data": {
      "text/html": [
       "<style type=\"text/css\">\n",
       "#T_9068b_row0_col0, #T_9068b_row1_col0, #T_9068b_row2_col0 {\n",
       "  background-color: #2a9d8f;\n",
       "  color: white;\n",
       "  border: 1.5px solid #2a9d8f;\n",
       "}\n",
       "</style>\n",
       "<table id=\"T_9068b\">\n",
       "  <thead>\n",
       "    <tr>\n",
       "      <th class=\"blank level0\" >&nbsp;</th>\n",
       "      <th id=\"T_9068b_level0_col0\" class=\"col_heading level0 col0\" >mean</th>\n",
       "    </tr>\n",
       "  </thead>\n",
       "  <tbody>\n",
       "    <tr>\n",
       "      <th id=\"T_9068b_level0_row0\" class=\"row_heading level0 row0\" >anime_id</th>\n",
       "      <td id=\"T_9068b_row0_col0\" class=\"data row0 col0\" >14058.221653</td>\n",
       "    </tr>\n",
       "    <tr>\n",
       "      <th id=\"T_9068b_level0_row1\" class=\"row_heading level0 row1\" >rating</th>\n",
       "      <td id=\"T_9068b_row1_col0\" class=\"data row1 col0\" >6.473902</td>\n",
       "    </tr>\n",
       "    <tr>\n",
       "      <th id=\"T_9068b_level0_row2\" class=\"row_heading level0 row2\" >members</th>\n",
       "      <td id=\"T_9068b_row2_col0\" class=\"data row2 col0\" >18071.338864</td>\n",
       "    </tr>\n",
       "  </tbody>\n",
       "</table>\n"
      ],
      "text/plain": [
       "<pandas.io.formats.style.Styler at 0x1ecb596e010>"
      ]
     },
     "metadata": {},
     "output_type": "display_data"
    },
    {
     "name": "stdout",
     "output_type": "stream",
     "text": [
      "\n",
      "Summary for std:\n"
     ]
    },
    {
     "data": {
      "text/html": [
       "<style type=\"text/css\">\n",
       "#T_49d79_row0_col0, #T_49d79_row1_col0, #T_49d79_row2_col0 {\n",
       "  background-color: #e9c46a;\n",
       "  color: black;\n",
       "  border: 1.5px solid #e9c46a;\n",
       "}\n",
       "</style>\n",
       "<table id=\"T_49d79\">\n",
       "  <thead>\n",
       "    <tr>\n",
       "      <th class=\"blank level0\" >&nbsp;</th>\n",
       "      <th id=\"T_49d79_level0_col0\" class=\"col_heading level0 col0\" >std</th>\n",
       "    </tr>\n",
       "  </thead>\n",
       "  <tbody>\n",
       "    <tr>\n",
       "      <th id=\"T_49d79_level0_row0\" class=\"row_heading level0 row0\" >anime_id</th>\n",
       "      <td id=\"T_49d79_row0_col0\" class=\"data row0 col0\" >11455.294701</td>\n",
       "    </tr>\n",
       "    <tr>\n",
       "      <th id=\"T_49d79_level0_row1\" class=\"row_heading level0 row1\" >rating</th>\n",
       "      <td id=\"T_49d79_row1_col0\" class=\"data row1 col0\" >1.026746</td>\n",
       "    </tr>\n",
       "    <tr>\n",
       "      <th id=\"T_49d79_level0_row2\" class=\"row_heading level0 row2\" >members</th>\n",
       "      <td id=\"T_49d79_row2_col0\" class=\"data row2 col0\" >54820.676925</td>\n",
       "    </tr>\n",
       "  </tbody>\n",
       "</table>\n"
      ],
      "text/plain": [
       "<pandas.io.formats.style.Styler at 0x1ecb596ee90>"
      ]
     },
     "metadata": {},
     "output_type": "display_data"
    },
    {
     "name": "stdout",
     "output_type": "stream",
     "text": [
      "\n",
      "Summary for min:\n"
     ]
    },
    {
     "data": {
      "text/html": [
       "<style type=\"text/css\">\n",
       "#T_32572_row0_col0, #T_32572_row1_col0, #T_32572_row2_col0 {\n",
       "  background-color: #f4a261;\n",
       "  color: black;\n",
       "  border: 1.5px solid #f4a261;\n",
       "}\n",
       "</style>\n",
       "<table id=\"T_32572\">\n",
       "  <thead>\n",
       "    <tr>\n",
       "      <th class=\"blank level0\" >&nbsp;</th>\n",
       "      <th id=\"T_32572_level0_col0\" class=\"col_heading level0 col0\" >min</th>\n",
       "    </tr>\n",
       "  </thead>\n",
       "  <tbody>\n",
       "    <tr>\n",
       "      <th id=\"T_32572_level0_row0\" class=\"row_heading level0 row0\" >anime_id</th>\n",
       "      <td id=\"T_32572_row0_col0\" class=\"data row0 col0\" >1.000000</td>\n",
       "    </tr>\n",
       "    <tr>\n",
       "      <th id=\"T_32572_level0_row1\" class=\"row_heading level0 row1\" >rating</th>\n",
       "      <td id=\"T_32572_row1_col0\" class=\"data row1 col0\" >1.670000</td>\n",
       "    </tr>\n",
       "    <tr>\n",
       "      <th id=\"T_32572_level0_row2\" class=\"row_heading level0 row2\" >members</th>\n",
       "      <td id=\"T_32572_row2_col0\" class=\"data row2 col0\" >5.000000</td>\n",
       "    </tr>\n",
       "  </tbody>\n",
       "</table>\n"
      ],
      "text/plain": [
       "<pandas.io.formats.style.Styler at 0x1ecb5814610>"
      ]
     },
     "metadata": {},
     "output_type": "display_data"
    },
    {
     "name": "stdout",
     "output_type": "stream",
     "text": [
      "\n",
      "Summary for 25%:\n"
     ]
    },
    {
     "data": {
      "text/html": [
       "<style type=\"text/css\">\n",
       "#T_0c614_row0_col0, #T_0c614_row1_col0, #T_0c614_row2_col0 {\n",
       "  background-color: #e76f51;\n",
       "  color: white;\n",
       "  border: 1.5px solid #e76f51;\n",
       "}\n",
       "</style>\n",
       "<table id=\"T_0c614\">\n",
       "  <thead>\n",
       "    <tr>\n",
       "      <th class=\"blank level0\" >&nbsp;</th>\n",
       "      <th id=\"T_0c614_level0_col0\" class=\"col_heading level0 col0\" >25%</th>\n",
       "    </tr>\n",
       "  </thead>\n",
       "  <tbody>\n",
       "    <tr>\n",
       "      <th id=\"T_0c614_level0_row0\" class=\"row_heading level0 row0\" >anime_id</th>\n",
       "      <td id=\"T_0c614_row0_col0\" class=\"data row0 col0\" >3484.250000</td>\n",
       "    </tr>\n",
       "    <tr>\n",
       "      <th id=\"T_0c614_level0_row1\" class=\"row_heading level0 row1\" >rating</th>\n",
       "      <td id=\"T_0c614_row1_col0\" class=\"data row1 col0\" >5.880000</td>\n",
       "    </tr>\n",
       "    <tr>\n",
       "      <th id=\"T_0c614_level0_row2\" class=\"row_heading level0 row2\" >members</th>\n",
       "      <td id=\"T_0c614_row2_col0\" class=\"data row2 col0\" >225.000000</td>\n",
       "    </tr>\n",
       "  </tbody>\n",
       "</table>\n"
      ],
      "text/plain": [
       "<pandas.io.formats.style.Styler at 0x1ecb5982bd0>"
      ]
     },
     "metadata": {},
     "output_type": "display_data"
    },
    {
     "name": "stdout",
     "output_type": "stream",
     "text": [
      "\n",
      "Summary for 50%:\n"
     ]
    },
    {
     "data": {
      "text/html": [
       "<style type=\"text/css\">\n",
       "#T_16500_row0_col0, #T_16500_row1_col0, #T_16500_row2_col0 {\n",
       "  background-color: #264653;\n",
       "  color: white;\n",
       "  border: 1.5px solid #264653;\n",
       "}\n",
       "</style>\n",
       "<table id=\"T_16500\">\n",
       "  <thead>\n",
       "    <tr>\n",
       "      <th class=\"blank level0\" >&nbsp;</th>\n",
       "      <th id=\"T_16500_level0_col0\" class=\"col_heading level0 col0\" >50%</th>\n",
       "    </tr>\n",
       "  </thead>\n",
       "  <tbody>\n",
       "    <tr>\n",
       "      <th id=\"T_16500_level0_row0\" class=\"row_heading level0 row0\" >anime_id</th>\n",
       "      <td id=\"T_16500_row0_col0\" class=\"data row0 col0\" >10260.500000</td>\n",
       "    </tr>\n",
       "    <tr>\n",
       "      <th id=\"T_16500_level0_row1\" class=\"row_heading level0 row1\" >rating</th>\n",
       "      <td id=\"T_16500_row1_col0\" class=\"data row1 col0\" >6.570000</td>\n",
       "    </tr>\n",
       "    <tr>\n",
       "      <th id=\"T_16500_level0_row2\" class=\"row_heading level0 row2\" >members</th>\n",
       "      <td id=\"T_16500_row2_col0\" class=\"data row2 col0\" >1550.000000</td>\n",
       "    </tr>\n",
       "  </tbody>\n",
       "</table>\n"
      ],
      "text/plain": [
       "<pandas.io.formats.style.Styler at 0x1ecb5983d50>"
      ]
     },
     "metadata": {},
     "output_type": "display_data"
    },
    {
     "name": "stdout",
     "output_type": "stream",
     "text": [
      "\n",
      "Summary for 75%:\n"
     ]
    },
    {
     "data": {
      "text/html": [
       "<style type=\"text/css\">\n",
       "#T_2bea8_row0_col0, #T_2bea8_row1_col0, #T_2bea8_row2_col0 {\n",
       "  background-color: #2a9d8f;\n",
       "  color: white;\n",
       "  border: 1.5px solid #2a9d8f;\n",
       "}\n",
       "</style>\n",
       "<table id=\"T_2bea8\">\n",
       "  <thead>\n",
       "    <tr>\n",
       "      <th class=\"blank level0\" >&nbsp;</th>\n",
       "      <th id=\"T_2bea8_level0_col0\" class=\"col_heading level0 col0\" >75%</th>\n",
       "    </tr>\n",
       "  </thead>\n",
       "  <tbody>\n",
       "    <tr>\n",
       "      <th id=\"T_2bea8_level0_row0\" class=\"row_heading level0 row0\" >anime_id</th>\n",
       "      <td id=\"T_2bea8_row0_col0\" class=\"data row0 col0\" >24794.500000</td>\n",
       "    </tr>\n",
       "    <tr>\n",
       "      <th id=\"T_2bea8_level0_row1\" class=\"row_heading level0 row1\" >rating</th>\n",
       "      <td id=\"T_2bea8_row1_col0\" class=\"data row1 col0\" >7.180000</td>\n",
       "    </tr>\n",
       "    <tr>\n",
       "      <th id=\"T_2bea8_level0_row2\" class=\"row_heading level0 row2\" >members</th>\n",
       "      <td id=\"T_2bea8_row2_col0\" class=\"data row2 col0\" >9437.000000</td>\n",
       "    </tr>\n",
       "  </tbody>\n",
       "</table>\n"
      ],
      "text/plain": [
       "<pandas.io.formats.style.Styler at 0x1ecb596ea90>"
      ]
     },
     "metadata": {},
     "output_type": "display_data"
    },
    {
     "name": "stdout",
     "output_type": "stream",
     "text": [
      "\n",
      "Summary for max:\n"
     ]
    },
    {
     "data": {
      "text/html": [
       "<style type=\"text/css\">\n",
       "#T_6efda_row0_col0, #T_6efda_row1_col0, #T_6efda_row2_col0 {\n",
       "  background-color: #e9c46a;\n",
       "  color: black;\n",
       "  border: 1.5px solid #e9c46a;\n",
       "}\n",
       "</style>\n",
       "<table id=\"T_6efda\">\n",
       "  <thead>\n",
       "    <tr>\n",
       "      <th class=\"blank level0\" >&nbsp;</th>\n",
       "      <th id=\"T_6efda_level0_col0\" class=\"col_heading level0 col0\" >max</th>\n",
       "    </tr>\n",
       "  </thead>\n",
       "  <tbody>\n",
       "    <tr>\n",
       "      <th id=\"T_6efda_level0_row0\" class=\"row_heading level0 row0\" >anime_id</th>\n",
       "      <td id=\"T_6efda_row0_col0\" class=\"data row0 col0\" >34527.000000</td>\n",
       "    </tr>\n",
       "    <tr>\n",
       "      <th id=\"T_6efda_level0_row1\" class=\"row_heading level0 row1\" >rating</th>\n",
       "      <td id=\"T_6efda_row1_col0\" class=\"data row1 col0\" >10.000000</td>\n",
       "    </tr>\n",
       "    <tr>\n",
       "      <th id=\"T_6efda_level0_row2\" class=\"row_heading level0 row2\" >members</th>\n",
       "      <td id=\"T_6efda_row2_col0\" class=\"data row2 col0\" >1013917.000000</td>\n",
       "    </tr>\n",
       "  </tbody>\n",
       "</table>\n"
      ],
      "text/plain": [
       "<pandas.io.formats.style.Styler at 0x1ecb5983a50>"
      ]
     },
     "metadata": {},
     "output_type": "display_data"
    },
    {
     "name": "stdout",
     "output_type": "stream",
     "text": [
      "\n"
     ]
    }
   ],
   "source": [
    "# Summary of The Anime Dataset\n",
    "print(\"Summary of The Anime Dataset:\\n\")\n",
    "import itertools\n",
    "# Generate summary statistics for the anime dataset\n",
    "anime_summary = anime_csv.describe().T\n",
    "\n",
    "# Define the styles \n",
    "styles = [\n",
    "    {\"background-color\": \"#264653\", \"color\": \"white\", \"border\": \"1.5px solid #264653\"},\n",
    "    {\"background-color\": \"#2a9d8f\", \"color\": \"white\", \"border\": \"1.5px solid #2a9d8f\"},\n",
    "    {\"background-color\": \"#e9c46a\", \"color\": \"black\", \"border\": \"1.5px solid #e9c46a\"},\n",
    "    {\"background-color\": \"#f4a261\", \"color\": \"black\", \"border\": \"1.5px solid #f4a261\"},\n",
    "    {\"background-color\": \"#e76f51\", \"color\": \"white\", \"border\": \"1.5px solid #e76f51\"}\n",
    "]\n",
    "\n",
    "# Display\n",
    "styles_cycle = itertools.cycle(styles) \n",
    "for col, summary in anime_summary.items():\n",
    "    print(f\"Summary for {col}:\")\n",
    "    style = next(styles_cycle)  \n",
    "    styled_summary = summary.to_frame().style.set_properties(**style)\n",
    "    display(styled_summary)\n",
    "    print()\n"
   ]
  },
  {
   "cell_type": "code",
   "execution_count": 17,
   "metadata": {},
   "outputs": [
    {
     "name": "stdout",
     "output_type": "stream",
     "text": [
      "Summary of The Rating Dataset:\n",
      "\n",
      "Summary for count:\n"
     ]
    },
    {
     "data": {
      "text/html": [
       "<style type=\"text/css\">\n",
       "#T_b6253_row0_col0, #T_b6253_row1_col0, #T_b6253_row2_col0 {\n",
       "  background-color: #264653;\n",
       "  color: white;\n",
       "  border: 1.5px solid #264653;\n",
       "}\n",
       "</style>\n",
       "<table id=\"T_b6253\">\n",
       "  <thead>\n",
       "    <tr>\n",
       "      <th class=\"blank level0\" >&nbsp;</th>\n",
       "      <th id=\"T_b6253_level0_col0\" class=\"col_heading level0 col0\" >count</th>\n",
       "    </tr>\n",
       "  </thead>\n",
       "  <tbody>\n",
       "    <tr>\n",
       "      <th id=\"T_b6253_level0_row0\" class=\"row_heading level0 row0\" >user_id</th>\n",
       "      <td id=\"T_b6253_row0_col0\" class=\"data row0 col0\" >7813737.000000</td>\n",
       "    </tr>\n",
       "    <tr>\n",
       "      <th id=\"T_b6253_level0_row1\" class=\"row_heading level0 row1\" >anime_id</th>\n",
       "      <td id=\"T_b6253_row1_col0\" class=\"data row1 col0\" >7813737.000000</td>\n",
       "    </tr>\n",
       "    <tr>\n",
       "      <th id=\"T_b6253_level0_row2\" class=\"row_heading level0 row2\" >rating</th>\n",
       "      <td id=\"T_b6253_row2_col0\" class=\"data row2 col0\" >7813737.000000</td>\n",
       "    </tr>\n",
       "  </tbody>\n",
       "</table>\n"
      ],
      "text/plain": [
       "<pandas.io.formats.style.Styler at 0x1ecb545ae10>"
      ]
     },
     "metadata": {},
     "output_type": "display_data"
    },
    {
     "name": "stdout",
     "output_type": "stream",
     "text": [
      "\n",
      "Summary for mean:\n"
     ]
    },
    {
     "data": {
      "text/html": [
       "<style type=\"text/css\">\n",
       "#T_bb50c_row0_col0, #T_bb50c_row1_col0, #T_bb50c_row2_col0 {\n",
       "  background-color: #2a9d8f;\n",
       "  color: white;\n",
       "  border: 1.5px solid #2a9d8f;\n",
       "}\n",
       "</style>\n",
       "<table id=\"T_bb50c\">\n",
       "  <thead>\n",
       "    <tr>\n",
       "      <th class=\"blank level0\" >&nbsp;</th>\n",
       "      <th id=\"T_bb50c_level0_col0\" class=\"col_heading level0 col0\" >mean</th>\n",
       "    </tr>\n",
       "  </thead>\n",
       "  <tbody>\n",
       "    <tr>\n",
       "      <th id=\"T_bb50c_level0_row0\" class=\"row_heading level0 row0\" >user_id</th>\n",
       "      <td id=\"T_bb50c_row0_col0\" class=\"data row0 col0\" >36727.956745</td>\n",
       "    </tr>\n",
       "    <tr>\n",
       "      <th id=\"T_bb50c_level0_row1\" class=\"row_heading level0 row1\" >anime_id</th>\n",
       "      <td id=\"T_bb50c_row1_col0\" class=\"data row1 col0\" >8909.072104</td>\n",
       "    </tr>\n",
       "    <tr>\n",
       "      <th id=\"T_bb50c_level0_row2\" class=\"row_heading level0 row2\" >rating</th>\n",
       "      <td id=\"T_bb50c_row2_col0\" class=\"data row2 col0\" >6.144030</td>\n",
       "    </tr>\n",
       "  </tbody>\n",
       "</table>\n"
      ],
      "text/plain": [
       "<pandas.io.formats.style.Styler at 0x1ecb574fa90>"
      ]
     },
     "metadata": {},
     "output_type": "display_data"
    },
    {
     "name": "stdout",
     "output_type": "stream",
     "text": [
      "\n",
      "Summary for std:\n"
     ]
    },
    {
     "data": {
      "text/html": [
       "<style type=\"text/css\">\n",
       "#T_0861d_row0_col0, #T_0861d_row1_col0, #T_0861d_row2_col0 {\n",
       "  background-color: #e9c46a;\n",
       "  color: black;\n",
       "  border: 1.5px solid #e9c46a;\n",
       "}\n",
       "</style>\n",
       "<table id=\"T_0861d\">\n",
       "  <thead>\n",
       "    <tr>\n",
       "      <th class=\"blank level0\" >&nbsp;</th>\n",
       "      <th id=\"T_0861d_level0_col0\" class=\"col_heading level0 col0\" >std</th>\n",
       "    </tr>\n",
       "  </thead>\n",
       "  <tbody>\n",
       "    <tr>\n",
       "      <th id=\"T_0861d_level0_row0\" class=\"row_heading level0 row0\" >user_id</th>\n",
       "      <td id=\"T_0861d_row0_col0\" class=\"data row0 col0\" >20997.946119</td>\n",
       "    </tr>\n",
       "    <tr>\n",
       "      <th id=\"T_0861d_level0_row1\" class=\"row_heading level0 row1\" >anime_id</th>\n",
       "      <td id=\"T_0861d_row1_col0\" class=\"data row1 col0\" >8883.949636</td>\n",
       "    </tr>\n",
       "    <tr>\n",
       "      <th id=\"T_0861d_level0_row2\" class=\"row_heading level0 row2\" >rating</th>\n",
       "      <td id=\"T_0861d_row2_col0\" class=\"data row2 col0\" >3.727800</td>\n",
       "    </tr>\n",
       "  </tbody>\n",
       "</table>\n"
      ],
      "text/plain": [
       "<pandas.io.formats.style.Styler at 0x1ecb574e250>"
      ]
     },
     "metadata": {},
     "output_type": "display_data"
    },
    {
     "name": "stdout",
     "output_type": "stream",
     "text": [
      "\n",
      "Summary for min:\n"
     ]
    },
    {
     "data": {
      "text/html": [
       "<style type=\"text/css\">\n",
       "#T_2663d_row0_col0, #T_2663d_row1_col0, #T_2663d_row2_col0 {\n",
       "  background-color: #f4a261;\n",
       "  color: black;\n",
       "  border: 1.5px solid #f4a261;\n",
       "}\n",
       "</style>\n",
       "<table id=\"T_2663d\">\n",
       "  <thead>\n",
       "    <tr>\n",
       "      <th class=\"blank level0\" >&nbsp;</th>\n",
       "      <th id=\"T_2663d_level0_col0\" class=\"col_heading level0 col0\" >min</th>\n",
       "    </tr>\n",
       "  </thead>\n",
       "  <tbody>\n",
       "    <tr>\n",
       "      <th id=\"T_2663d_level0_row0\" class=\"row_heading level0 row0\" >user_id</th>\n",
       "      <td id=\"T_2663d_row0_col0\" class=\"data row0 col0\" >1.000000</td>\n",
       "    </tr>\n",
       "    <tr>\n",
       "      <th id=\"T_2663d_level0_row1\" class=\"row_heading level0 row1\" >anime_id</th>\n",
       "      <td id=\"T_2663d_row1_col0\" class=\"data row1 col0\" >1.000000</td>\n",
       "    </tr>\n",
       "    <tr>\n",
       "      <th id=\"T_2663d_level0_row2\" class=\"row_heading level0 row2\" >rating</th>\n",
       "      <td id=\"T_2663d_row2_col0\" class=\"data row2 col0\" >-1.000000</td>\n",
       "    </tr>\n",
       "  </tbody>\n",
       "</table>\n"
      ],
      "text/plain": [
       "<pandas.io.formats.style.Styler at 0x1ecb5607f10>"
      ]
     },
     "metadata": {},
     "output_type": "display_data"
    },
    {
     "name": "stdout",
     "output_type": "stream",
     "text": [
      "\n",
      "Summary for 25%:\n"
     ]
    },
    {
     "data": {
      "text/html": [
       "<style type=\"text/css\">\n",
       "#T_0e74e_row0_col0, #T_0e74e_row1_col0, #T_0e74e_row2_col0 {\n",
       "  background-color: #e76f51;\n",
       "  color: white;\n",
       "  border: 1.5px solid #e76f51;\n",
       "}\n",
       "</style>\n",
       "<table id=\"T_0e74e\">\n",
       "  <thead>\n",
       "    <tr>\n",
       "      <th class=\"blank level0\" >&nbsp;</th>\n",
       "      <th id=\"T_0e74e_level0_col0\" class=\"col_heading level0 col0\" >25%</th>\n",
       "    </tr>\n",
       "  </thead>\n",
       "  <tbody>\n",
       "    <tr>\n",
       "      <th id=\"T_0e74e_level0_row0\" class=\"row_heading level0 row0\" >user_id</th>\n",
       "      <td id=\"T_0e74e_row0_col0\" class=\"data row0 col0\" >18974.000000</td>\n",
       "    </tr>\n",
       "    <tr>\n",
       "      <th id=\"T_0e74e_level0_row1\" class=\"row_heading level0 row1\" >anime_id</th>\n",
       "      <td id=\"T_0e74e_row1_col0\" class=\"data row1 col0\" >1240.000000</td>\n",
       "    </tr>\n",
       "    <tr>\n",
       "      <th id=\"T_0e74e_level0_row2\" class=\"row_heading level0 row2\" >rating</th>\n",
       "      <td id=\"T_0e74e_row2_col0\" class=\"data row2 col0\" >6.000000</td>\n",
       "    </tr>\n",
       "  </tbody>\n",
       "</table>\n"
      ],
      "text/plain": [
       "<pandas.io.formats.style.Styler at 0x1ecb5983a50>"
      ]
     },
     "metadata": {},
     "output_type": "display_data"
    },
    {
     "name": "stdout",
     "output_type": "stream",
     "text": [
      "\n",
      "Summary for 50%:\n"
     ]
    },
    {
     "data": {
      "text/html": [
       "<style type=\"text/css\">\n",
       "#T_d2472_row0_col0, #T_d2472_row1_col0, #T_d2472_row2_col0 {\n",
       "  background-color: #264653;\n",
       "  color: white;\n",
       "  border: 1.5px solid #264653;\n",
       "}\n",
       "</style>\n",
       "<table id=\"T_d2472\">\n",
       "  <thead>\n",
       "    <tr>\n",
       "      <th class=\"blank level0\" >&nbsp;</th>\n",
       "      <th id=\"T_d2472_level0_col0\" class=\"col_heading level0 col0\" >50%</th>\n",
       "    </tr>\n",
       "  </thead>\n",
       "  <tbody>\n",
       "    <tr>\n",
       "      <th id=\"T_d2472_level0_row0\" class=\"row_heading level0 row0\" >user_id</th>\n",
       "      <td id=\"T_d2472_row0_col0\" class=\"data row0 col0\" >36791.000000</td>\n",
       "    </tr>\n",
       "    <tr>\n",
       "      <th id=\"T_d2472_level0_row1\" class=\"row_heading level0 row1\" >anime_id</th>\n",
       "      <td id=\"T_d2472_row1_col0\" class=\"data row1 col0\" >6213.000000</td>\n",
       "    </tr>\n",
       "    <tr>\n",
       "      <th id=\"T_d2472_level0_row2\" class=\"row_heading level0 row2\" >rating</th>\n",
       "      <td id=\"T_d2472_row2_col0\" class=\"data row2 col0\" >7.000000</td>\n",
       "    </tr>\n",
       "  </tbody>\n",
       "</table>\n"
      ],
      "text/plain": [
       "<pandas.io.formats.style.Styler at 0x1eca400b450>"
      ]
     },
     "metadata": {},
     "output_type": "display_data"
    },
    {
     "name": "stdout",
     "output_type": "stream",
     "text": [
      "\n",
      "Summary for 75%:\n"
     ]
    },
    {
     "data": {
      "text/html": [
       "<style type=\"text/css\">\n",
       "#T_eac17_row0_col0, #T_eac17_row1_col0, #T_eac17_row2_col0 {\n",
       "  background-color: #2a9d8f;\n",
       "  color: white;\n",
       "  border: 1.5px solid #2a9d8f;\n",
       "}\n",
       "</style>\n",
       "<table id=\"T_eac17\">\n",
       "  <thead>\n",
       "    <tr>\n",
       "      <th class=\"blank level0\" >&nbsp;</th>\n",
       "      <th id=\"T_eac17_level0_col0\" class=\"col_heading level0 col0\" >75%</th>\n",
       "    </tr>\n",
       "  </thead>\n",
       "  <tbody>\n",
       "    <tr>\n",
       "      <th id=\"T_eac17_level0_row0\" class=\"row_heading level0 row0\" >user_id</th>\n",
       "      <td id=\"T_eac17_row0_col0\" class=\"data row0 col0\" >54757.000000</td>\n",
       "    </tr>\n",
       "    <tr>\n",
       "      <th id=\"T_eac17_level0_row1\" class=\"row_heading level0 row1\" >anime_id</th>\n",
       "      <td id=\"T_eac17_row1_col0\" class=\"data row1 col0\" >14093.000000</td>\n",
       "    </tr>\n",
       "    <tr>\n",
       "      <th id=\"T_eac17_level0_row2\" class=\"row_heading level0 row2\" >rating</th>\n",
       "      <td id=\"T_eac17_row2_col0\" class=\"data row2 col0\" >9.000000</td>\n",
       "    </tr>\n",
       "  </tbody>\n",
       "</table>\n"
      ],
      "text/plain": [
       "<pandas.io.formats.style.Styler at 0x1ecb5982e50>"
      ]
     },
     "metadata": {},
     "output_type": "display_data"
    },
    {
     "name": "stdout",
     "output_type": "stream",
     "text": [
      "\n",
      "Summary for max:\n"
     ]
    },
    {
     "data": {
      "text/html": [
       "<style type=\"text/css\">\n",
       "#T_5f04f_row0_col0, #T_5f04f_row1_col0, #T_5f04f_row2_col0 {\n",
       "  background-color: #e9c46a;\n",
       "  color: black;\n",
       "  border: 1.5px solid #e9c46a;\n",
       "}\n",
       "</style>\n",
       "<table id=\"T_5f04f\">\n",
       "  <thead>\n",
       "    <tr>\n",
       "      <th class=\"blank level0\" >&nbsp;</th>\n",
       "      <th id=\"T_5f04f_level0_col0\" class=\"col_heading level0 col0\" >max</th>\n",
       "    </tr>\n",
       "  </thead>\n",
       "  <tbody>\n",
       "    <tr>\n",
       "      <th id=\"T_5f04f_level0_row0\" class=\"row_heading level0 row0\" >user_id</th>\n",
       "      <td id=\"T_5f04f_row0_col0\" class=\"data row0 col0\" >73516.000000</td>\n",
       "    </tr>\n",
       "    <tr>\n",
       "      <th id=\"T_5f04f_level0_row1\" class=\"row_heading level0 row1\" >anime_id</th>\n",
       "      <td id=\"T_5f04f_row1_col0\" class=\"data row1 col0\" >34519.000000</td>\n",
       "    </tr>\n",
       "    <tr>\n",
       "      <th id=\"T_5f04f_level0_row2\" class=\"row_heading level0 row2\" >rating</th>\n",
       "      <td id=\"T_5f04f_row2_col0\" class=\"data row2 col0\" >10.000000</td>\n",
       "    </tr>\n",
       "  </tbody>\n",
       "</table>\n"
      ],
      "text/plain": [
       "<pandas.io.formats.style.Styler at 0x1ecb5988b90>"
      ]
     },
     "metadata": {},
     "output_type": "display_data"
    },
    {
     "name": "stdout",
     "output_type": "stream",
     "text": [
      "\n"
     ]
    }
   ],
   "source": [
    "# Summary of The Rating Dataset\n",
    "print(\"Summary of The Rating Dataset:\\n\")\n",
    "import itertools\n",
    "# Generate summary statistics for the anime dataset\n",
    "anime_summary = rating_csv.describe().T\n",
    "\n",
    "# Define the styles \n",
    "styles = [\n",
    "    {\"background-color\": \"#264653\", \"color\": \"white\", \"border\": \"1.5px solid #264653\"},\n",
    "    {\"background-color\": \"#2a9d8f\", \"color\": \"white\", \"border\": \"1.5px solid #2a9d8f\"},\n",
    "    {\"background-color\": \"#e9c46a\", \"color\": \"black\", \"border\": \"1.5px solid #e9c46a\"},\n",
    "    {\"background-color\": \"#f4a261\", \"color\": \"black\", \"border\": \"1.5px solid #f4a261\"},\n",
    "    {\"background-color\": \"#e76f51\", \"color\": \"white\", \"border\": \"1.5px solid #e76f51\"}\n",
    "]\n",
    "\n",
    "# Display\n",
    "styles_cycle = itertools.cycle(styles) \n",
    "for col, summary in anime_summary.items():\n",
    "    print(f\"Summary for {col}:\")\n",
    "    style = next(styles_cycle)  \n",
    "    styled_summary = summary.to_frame().style.set_properties(**style)\n",
    "    display(styled_summary)\n",
    "    print()\n"
   ]
  },
  {
   "cell_type": "code",
   "execution_count": 19,
   "metadata": {},
   "outputs": [
    {
     "name": "stdout",
     "output_type": "stream",
     "text": [
      "Null in  Anime :\n",
      "\n"
     ]
    },
    {
     "data": {
      "text/html": [
       "<style type=\"text/css\">\n",
       "#T_bb387 th {\n",
       "  background-color: #264653;\n",
       "  color: white;\n",
       "  border: 1.5px solid #264653;\n",
       "}\n",
       "#T_bb387 td {\n",
       "  border: 1.5px solid #264653;\n",
       "}\n",
       "</style>\n",
       "<table id=\"T_bb387\">\n",
       "  <thead>\n",
       "    <tr>\n",
       "      <th class=\"blank level0\" >&nbsp;</th>\n",
       "      <th id=\"T_bb387_level0_col0\" class=\"col_heading level0 col0\" >user_id</th>\n",
       "      <th id=\"T_bb387_level0_col1\" class=\"col_heading level0 col1\" >anime_id</th>\n",
       "      <th id=\"T_bb387_level0_col2\" class=\"col_heading level0 col2\" >rating</th>\n",
       "    </tr>\n",
       "  </thead>\n",
       "  <tbody>\n",
       "    <tr>\n",
       "      <th id=\"T_bb387_level0_row0\" class=\"row_heading level0 row0\" >0</th>\n",
       "      <td id=\"T_bb387_row0_col0\" class=\"data row0 col0\" >0</td>\n",
       "      <td id=\"T_bb387_row0_col1\" class=\"data row0 col1\" >0</td>\n",
       "      <td id=\"T_bb387_row0_col2\" class=\"data row0 col2\" >0</td>\n",
       "    </tr>\n",
       "  </tbody>\n",
       "</table>\n"
      ],
      "text/plain": [
       "<pandas.io.formats.style.Styler at 0x1ecb5780610>"
      ]
     },
     "execution_count": 19,
     "metadata": {},
     "output_type": "execute_result"
    }
   ],
   "source": [
    "# Print Null Values of Rating Dataset\n",
    "print(\"Null in  Anime :\\n\")\n",
    "\n",
    "# Calculate null \n",
    "null_values = rating_csv.isna().sum()\n",
    "\n",
    "# Convert null \n",
    "null_values_df = null_values.to_frame().T\n",
    "\n",
    "# Define \n",
    "styled_null_values = null_values_df.style.set_table_styles([\n",
    "    {\"selector\": \"th\", \"props\": [(\"background-color\", \"#264653\"), (\"color\", \"white\"), (\"border\", \"1.5px solid #264653\")]},\n",
    "    {\"selector\": \"td\", \"props\": [(\"border\", \"1.5px solid #264653\")]}\n",
    "])\n",
    "\n",
    "# Display \n",
    "styled_null_values"
   ]
  },
  {
   "cell_type": "code",
   "execution_count": 18,
   "metadata": {},
   "outputs": [
    {
     "name": "stdout",
     "output_type": "stream",
     "text": [
      "Null in  Anime :\n",
      "\n"
     ]
    },
    {
     "data": {
      "text/html": [
       "<style type=\"text/css\">\n",
       "#T_c3f1d th {\n",
       "  background-color: #264653;\n",
       "  color: white;\n",
       "  border: 1.5px solid #264653;\n",
       "}\n",
       "#T_c3f1d td {\n",
       "  border: 1.5px solid #264653;\n",
       "}\n",
       "</style>\n",
       "<table id=\"T_c3f1d\">\n",
       "  <thead>\n",
       "    <tr>\n",
       "      <th class=\"blank level0\" >&nbsp;</th>\n",
       "      <th id=\"T_c3f1d_level0_col0\" class=\"col_heading level0 col0\" >anime_id</th>\n",
       "      <th id=\"T_c3f1d_level0_col1\" class=\"col_heading level0 col1\" >name</th>\n",
       "      <th id=\"T_c3f1d_level0_col2\" class=\"col_heading level0 col2\" >genre</th>\n",
       "      <th id=\"T_c3f1d_level0_col3\" class=\"col_heading level0 col3\" >type</th>\n",
       "      <th id=\"T_c3f1d_level0_col4\" class=\"col_heading level0 col4\" >episodes</th>\n",
       "      <th id=\"T_c3f1d_level0_col5\" class=\"col_heading level0 col5\" >rating</th>\n",
       "      <th id=\"T_c3f1d_level0_col6\" class=\"col_heading level0 col6\" >members</th>\n",
       "    </tr>\n",
       "  </thead>\n",
       "  <tbody>\n",
       "    <tr>\n",
       "      <th id=\"T_c3f1d_level0_row0\" class=\"row_heading level0 row0\" >0</th>\n",
       "      <td id=\"T_c3f1d_row0_col0\" class=\"data row0 col0\" >0</td>\n",
       "      <td id=\"T_c3f1d_row0_col1\" class=\"data row0 col1\" >0</td>\n",
       "      <td id=\"T_c3f1d_row0_col2\" class=\"data row0 col2\" >62</td>\n",
       "      <td id=\"T_c3f1d_row0_col3\" class=\"data row0 col3\" >25</td>\n",
       "      <td id=\"T_c3f1d_row0_col4\" class=\"data row0 col4\" >0</td>\n",
       "      <td id=\"T_c3f1d_row0_col5\" class=\"data row0 col5\" >230</td>\n",
       "      <td id=\"T_c3f1d_row0_col6\" class=\"data row0 col6\" >0</td>\n",
       "    </tr>\n",
       "  </tbody>\n",
       "</table>\n"
      ],
      "text/plain": [
       "<pandas.io.formats.style.Styler at 0x1ecb574e890>"
      ]
     },
     "execution_count": 18,
     "metadata": {},
     "output_type": "execute_result"
    }
   ],
   "source": [
    "# Print Null Values of Anime Dataset\n",
    "print(\"Null in  Anime :\\n\")\n",
    "\n",
    "# Calculate null \n",
    "null_values = anime_csv.isna().sum()\n",
    "\n",
    "# Convert null \n",
    "null_values_df = null_values.to_frame().T\n",
    "\n",
    "# Define \n",
    "styled_null_values = null_values_df.style.set_table_styles([\n",
    "    {\"selector\": \"th\", \"props\": [(\"background-color\", \"#264653\"), (\"color\", \"white\"), (\"border\", \"1.5px solid #264653\")]},\n",
    "    {\"selector\": \"td\", \"props\": [(\"border\", \"1.5px solid #264653\")]}\n",
    "])\n",
    "\n",
    "# Display \n",
    "styled_null_values\n"
   ]
  },
  {
   "cell_type": "code",
   "execution_count": 28,
   "metadata": {},
   "outputs": [],
   "source": [
    "#dropped rows with missing values in the \"anime_csv\" dataset to ensure data completeness\n",
    "anime_csv.dropna(axis = 0, inplace = True)"
   ]
  },
  {
   "cell_type": "code",
   "execution_count": 29,
   "metadata": {},
   "outputs": [
    {
     "name": "stdout",
     "output_type": "stream",
     "text": [
      "         anime_id                                               name  \\\n",
      "0           32281                                     Kimi no Na wa.   \n",
      "1           32281                                     Kimi no Na wa.   \n",
      "2           32281                                     Kimi no Na wa.   \n",
      "3           32281                                     Kimi no Na wa.   \n",
      "4           32281                                     Kimi no Na wa.   \n",
      "...           ...                                                ...   \n",
      "7813606      6133  Violence Gekiga Shin David no Hoshi: Inma Dens...   \n",
      "7813607      6133  Violence Gekiga Shin David no Hoshi: Inma Dens...   \n",
      "7813608      6133  Violence Gekiga Shin David no Hoshi: Inma Dens...   \n",
      "7813609     26081                   Yasuji no Pornorama: Yacchimae!!   \n",
      "7813610     26081                   Yasuji no Pornorama: Yacchimae!!   \n",
      "\n",
      "                                        genre   type episodes  rating  \\\n",
      "0        Drama, Romance, School, Supernatural  Movie        1    9.37   \n",
      "1        Drama, Romance, School, Supernatural  Movie        1    9.37   \n",
      "2        Drama, Romance, School, Supernatural  Movie        1    9.37   \n",
      "3        Drama, Romance, School, Supernatural  Movie        1    9.37   \n",
      "4        Drama, Romance, School, Supernatural  Movie        1    9.37   \n",
      "...                                       ...    ...      ...     ...   \n",
      "7813606                                Hentai    OVA        1    4.98   \n",
      "7813607                                Hentai    OVA        1    4.98   \n",
      "7813608                                Hentai    OVA        1    4.98   \n",
      "7813609                                Hentai  Movie        1    5.46   \n",
      "7813610                                Hentai  Movie        1    5.46   \n",
      "\n",
      "         members  user_id  user_rating  \n",
      "0         200630       99            5  \n",
      "1         200630      152           10  \n",
      "2         200630      244           10  \n",
      "3         200630      271           10  \n",
      "4         200630      278           -1  \n",
      "...          ...      ...          ...  \n",
      "7813606      175    39532           -1  \n",
      "7813607      175    48766           -1  \n",
      "7813608      175    60365            4  \n",
      "7813609      142    27364           -1  \n",
      "7813610      142    48766           -1  \n",
      "\n",
      "[7813611 rows x 9 columns]\n"
     ]
    }
   ],
   "source": [
    "# Set the \"anime_id\" column as the index in both DataFrames\n",
    "anime_csv.set_index(\"anime_id\", inplace=True)\n",
    "rating_csv.set_index(\"anime_id\", inplace=True)\n",
    "\n",
    "# Perform the join operation\n",
    "fulldata = anime_csv.join(rating_csv, how=\"inner\", lsuffix=\"\", rsuffix=\"_user\")\n",
    "\n",
    "# Reset the index\n",
    "fulldata.reset_index(inplace=True)\n",
    "\n",
    "# Rename the \"rating_user\" column to \"user_rating\"\n",
    "fulldata.rename(columns={\"rating_user\": \"user_rating\"}, inplace=True)\n",
    "\n"
   ]
  },
  {
   "cell_type": "code",
   "execution_count": 33,
   "metadata": {},
   "outputs": [
    {
     "name": "stdout",
     "output_type": "stream",
     "text": [
      "Merged Dataset:\n"
     ]
    },
    {
     "data": {
      "text/html": [
       "<style type=\"text/css\">\n",
       "#T_9fa85 th {\n",
       "  background-color: #264653;\n",
       "  color: white;\n",
       "  border: 1.5px solid #264653;\n",
       "}\n",
       "#T_9fa85 td {\n",
       "  border: 1.5px solid #264653;\n",
       "}\n",
       "</style>\n",
       "<table id=\"T_9fa85\">\n",
       "  <thead>\n",
       "    <tr>\n",
       "      <th class=\"blank level0\" >&nbsp;</th>\n",
       "      <th id=\"T_9fa85_level0_col0\" class=\"col_heading level0 col0\" >anime_id</th>\n",
       "      <th id=\"T_9fa85_level0_col1\" class=\"col_heading level0 col1\" >name</th>\n",
       "      <th id=\"T_9fa85_level0_col2\" class=\"col_heading level0 col2\" >genre</th>\n",
       "      <th id=\"T_9fa85_level0_col3\" class=\"col_heading level0 col3\" >type</th>\n",
       "      <th id=\"T_9fa85_level0_col4\" class=\"col_heading level0 col4\" >episodes</th>\n",
       "      <th id=\"T_9fa85_level0_col5\" class=\"col_heading level0 col5\" >rating</th>\n",
       "      <th id=\"T_9fa85_level0_col6\" class=\"col_heading level0 col6\" >members</th>\n",
       "      <th id=\"T_9fa85_level0_col7\" class=\"col_heading level0 col7\" >user_id</th>\n",
       "      <th id=\"T_9fa85_level0_col8\" class=\"col_heading level0 col8\" >user_rating</th>\n",
       "    </tr>\n",
       "  </thead>\n",
       "  <tbody>\n",
       "    <tr>\n",
       "      <th id=\"T_9fa85_level0_row0\" class=\"row_heading level0 row0\" >0</th>\n",
       "      <td id=\"T_9fa85_row0_col0\" class=\"data row0 col0\" >32281</td>\n",
       "      <td id=\"T_9fa85_row0_col1\" class=\"data row0 col1\" >Kimi no Na wa.</td>\n",
       "      <td id=\"T_9fa85_row0_col2\" class=\"data row0 col2\" >Drama, Romance, School, Supernatural</td>\n",
       "      <td id=\"T_9fa85_row0_col3\" class=\"data row0 col3\" >Movie</td>\n",
       "      <td id=\"T_9fa85_row0_col4\" class=\"data row0 col4\" >1</td>\n",
       "      <td id=\"T_9fa85_row0_col5\" class=\"data row0 col5\" >9.370000</td>\n",
       "      <td id=\"T_9fa85_row0_col6\" class=\"data row0 col6\" >200630</td>\n",
       "      <td id=\"T_9fa85_row0_col7\" class=\"data row0 col7\" >99</td>\n",
       "      <td id=\"T_9fa85_row0_col8\" class=\"data row0 col8\" >5</td>\n",
       "    </tr>\n",
       "    <tr>\n",
       "      <th id=\"T_9fa85_level0_row1\" class=\"row_heading level0 row1\" >1</th>\n",
       "      <td id=\"T_9fa85_row1_col0\" class=\"data row1 col0\" >32281</td>\n",
       "      <td id=\"T_9fa85_row1_col1\" class=\"data row1 col1\" >Kimi no Na wa.</td>\n",
       "      <td id=\"T_9fa85_row1_col2\" class=\"data row1 col2\" >Drama, Romance, School, Supernatural</td>\n",
       "      <td id=\"T_9fa85_row1_col3\" class=\"data row1 col3\" >Movie</td>\n",
       "      <td id=\"T_9fa85_row1_col4\" class=\"data row1 col4\" >1</td>\n",
       "      <td id=\"T_9fa85_row1_col5\" class=\"data row1 col5\" >9.370000</td>\n",
       "      <td id=\"T_9fa85_row1_col6\" class=\"data row1 col6\" >200630</td>\n",
       "      <td id=\"T_9fa85_row1_col7\" class=\"data row1 col7\" >152</td>\n",
       "      <td id=\"T_9fa85_row1_col8\" class=\"data row1 col8\" >10</td>\n",
       "    </tr>\n",
       "    <tr>\n",
       "      <th id=\"T_9fa85_level0_row2\" class=\"row_heading level0 row2\" >2</th>\n",
       "      <td id=\"T_9fa85_row2_col0\" class=\"data row2 col0\" >32281</td>\n",
       "      <td id=\"T_9fa85_row2_col1\" class=\"data row2 col1\" >Kimi no Na wa.</td>\n",
       "      <td id=\"T_9fa85_row2_col2\" class=\"data row2 col2\" >Drama, Romance, School, Supernatural</td>\n",
       "      <td id=\"T_9fa85_row2_col3\" class=\"data row2 col3\" >Movie</td>\n",
       "      <td id=\"T_9fa85_row2_col4\" class=\"data row2 col4\" >1</td>\n",
       "      <td id=\"T_9fa85_row2_col5\" class=\"data row2 col5\" >9.370000</td>\n",
       "      <td id=\"T_9fa85_row2_col6\" class=\"data row2 col6\" >200630</td>\n",
       "      <td id=\"T_9fa85_row2_col7\" class=\"data row2 col7\" >244</td>\n",
       "      <td id=\"T_9fa85_row2_col8\" class=\"data row2 col8\" >10</td>\n",
       "    </tr>\n",
       "    <tr>\n",
       "      <th id=\"T_9fa85_level0_row3\" class=\"row_heading level0 row3\" >3</th>\n",
       "      <td id=\"T_9fa85_row3_col0\" class=\"data row3 col0\" >32281</td>\n",
       "      <td id=\"T_9fa85_row3_col1\" class=\"data row3 col1\" >Kimi no Na wa.</td>\n",
       "      <td id=\"T_9fa85_row3_col2\" class=\"data row3 col2\" >Drama, Romance, School, Supernatural</td>\n",
       "      <td id=\"T_9fa85_row3_col3\" class=\"data row3 col3\" >Movie</td>\n",
       "      <td id=\"T_9fa85_row3_col4\" class=\"data row3 col4\" >1</td>\n",
       "      <td id=\"T_9fa85_row3_col5\" class=\"data row3 col5\" >9.370000</td>\n",
       "      <td id=\"T_9fa85_row3_col6\" class=\"data row3 col6\" >200630</td>\n",
       "      <td id=\"T_9fa85_row3_col7\" class=\"data row3 col7\" >271</td>\n",
       "      <td id=\"T_9fa85_row3_col8\" class=\"data row3 col8\" >10</td>\n",
       "    </tr>\n",
       "    <tr>\n",
       "      <th id=\"T_9fa85_level0_row4\" class=\"row_heading level0 row4\" >4</th>\n",
       "      <td id=\"T_9fa85_row4_col0\" class=\"data row4 col0\" >32281</td>\n",
       "      <td id=\"T_9fa85_row4_col1\" class=\"data row4 col1\" >Kimi no Na wa.</td>\n",
       "      <td id=\"T_9fa85_row4_col2\" class=\"data row4 col2\" >Drama, Romance, School, Supernatural</td>\n",
       "      <td id=\"T_9fa85_row4_col3\" class=\"data row4 col3\" >Movie</td>\n",
       "      <td id=\"T_9fa85_row4_col4\" class=\"data row4 col4\" >1</td>\n",
       "      <td id=\"T_9fa85_row4_col5\" class=\"data row4 col5\" >9.370000</td>\n",
       "      <td id=\"T_9fa85_row4_col6\" class=\"data row4 col6\" >200630</td>\n",
       "      <td id=\"T_9fa85_row4_col7\" class=\"data row4 col7\" >278</td>\n",
       "      <td id=\"T_9fa85_row4_col8\" class=\"data row4 col8\" >-1</td>\n",
       "    </tr>\n",
       "  </tbody>\n",
       "</table>\n"
      ],
      "text/plain": [
       "<pandas.io.formats.style.Styler at 0x1ecb581da10>"
      ]
     },
     "execution_count": 33,
     "metadata": {},
     "output_type": "execute_result"
    }
   ],
   "source": [
    "# Define the style for the table\n",
    "styled_fulldata = fulldata.head().style.set_table_styles([\n",
    "    {\"selector\": \"th\", \"props\": [(\"background-color\", \"#264653\"), (\"color\", \"white\"), (\"border\", \"1.5px solid #264653\")]},\n",
    "    {\"selector\": \"td\", \"props\": [(\"border\", \"1.5px solid #264653\")]}\n",
    "])\n",
    "\n",
    "# Print the styled dataset\n",
    "print(\"Merged Dataset:\")\n",
    "styled_fulldata\n"
   ]
  },
  {
   "cell_type": "code",
   "execution_count": 36,
   "metadata": {},
   "outputs": [],
   "source": [
    "# We are taking a subset of the data for demonstration purposes.\n",
    "fulldatatemp = fulldata[fulldata.user_id <= 1000]\n",
    "user_ratings_count = fulldatatemp[\"user_id\"].value_counts()\n",
    "selected_users = user_ratings_count[user_ratings_count >= 45].index\n",
    "\n",
    "# Filter the data for selected users\n",
    "filtered_data = fulldatatemp[fulldatatemp[\"user_id\"].isin(selected_users)].copy()\n"
   ]
  },
  {
   "cell_type": "code",
   "execution_count": 44,
   "metadata": {},
   "outputs": [],
   "source": [
    "from sklearn.metrics.pairwise import cosine_similarity\n",
    "user_item_matrix = filtered_data.pivot_table(index='user_id', columns='anime_id', values='user_rating')\n",
    "user_item_matrix.fillna(0, inplace=True)\n",
    "user_similarity = cosine_similarity(user_item_matrix)"
   ]
  },
  {
   "cell_type": "code",
   "execution_count": 55,
   "metadata": {},
   "outputs": [
    {
     "name": "stdout",
     "output_type": "stream",
     "text": [
      "Top 5 similar users for user 200\n"
     ]
    },
    {
     "data": {
      "text/html": [
       "<style type=\"text/css\">\n",
       "#T_cc4a7 th {\n",
       "  background-color: #264653;\n",
       "  color: white;\n",
       "  border: 1.5px solid #264653;\n",
       "}\n",
       "#T_cc4a7 td {\n",
       "  border: 1.5px solid #264653;\n",
       "}\n",
       "</style>\n",
       "<table id=\"T_cc4a7\">\n",
       "  <thead>\n",
       "    <tr>\n",
       "      <th class=\"index_name level0\" >anime_id</th>\n",
       "      <th id=\"T_cc4a7_level0_col0\" class=\"col_heading level0 col0\" >1</th>\n",
       "      <th id=\"T_cc4a7_level0_col1\" class=\"col_heading level0 col1\" >5</th>\n",
       "      <th id=\"T_cc4a7_level0_col2\" class=\"col_heading level0 col2\" >6</th>\n",
       "      <th id=\"T_cc4a7_level0_col3\" class=\"col_heading level0 col3\" >7</th>\n",
       "      <th id=\"T_cc4a7_level0_col4\" class=\"col_heading level0 col4\" >8</th>\n",
       "      <th id=\"T_cc4a7_level0_col5\" class=\"col_heading level0 col5\" >15</th>\n",
       "      <th id=\"T_cc4a7_level0_col6\" class=\"col_heading level0 col6\" >16</th>\n",
       "      <th id=\"T_cc4a7_level0_col7\" class=\"col_heading level0 col7\" >17</th>\n",
       "      <th id=\"T_cc4a7_level0_col8\" class=\"col_heading level0 col8\" >18</th>\n",
       "      <th id=\"T_cc4a7_level0_col9\" class=\"col_heading level0 col9\" >19</th>\n",
       "    </tr>\n",
       "    <tr>\n",
       "      <th class=\"index_name level0\" >user_id</th>\n",
       "      <th class=\"blank col0\" >&nbsp;</th>\n",
       "      <th class=\"blank col1\" >&nbsp;</th>\n",
       "      <th class=\"blank col2\" >&nbsp;</th>\n",
       "      <th class=\"blank col3\" >&nbsp;</th>\n",
       "      <th class=\"blank col4\" >&nbsp;</th>\n",
       "      <th class=\"blank col5\" >&nbsp;</th>\n",
       "      <th class=\"blank col6\" >&nbsp;</th>\n",
       "      <th class=\"blank col7\" >&nbsp;</th>\n",
       "      <th class=\"blank col8\" >&nbsp;</th>\n",
       "      <th class=\"blank col9\" >&nbsp;</th>\n",
       "    </tr>\n",
       "  </thead>\n",
       "  <tbody>\n",
       "    <tr>\n",
       "      <th id=\"T_cc4a7_level0_row0\" class=\"row_heading level0 row0\" >701</th>\n",
       "      <td id=\"T_cc4a7_row0_col0\" class=\"data row0 col0\" >9.000000</td>\n",
       "      <td id=\"T_cc4a7_row0_col1\" class=\"data row0 col1\" >8.000000</td>\n",
       "      <td id=\"T_cc4a7_row0_col2\" class=\"data row0 col2\" >9.000000</td>\n",
       "      <td id=\"T_cc4a7_row0_col3\" class=\"data row0 col3\" >0.000000</td>\n",
       "      <td id=\"T_cc4a7_row0_col4\" class=\"data row0 col4\" >0.000000</td>\n",
       "      <td id=\"T_cc4a7_row0_col5\" class=\"data row0 col5\" >0.000000</td>\n",
       "      <td id=\"T_cc4a7_row0_col6\" class=\"data row0 col6\" >0.000000</td>\n",
       "      <td id=\"T_cc4a7_row0_col7\" class=\"data row0 col7\" >0.000000</td>\n",
       "      <td id=\"T_cc4a7_row0_col8\" class=\"data row0 col8\" >0.000000</td>\n",
       "      <td id=\"T_cc4a7_row0_col9\" class=\"data row0 col9\" >10.000000</td>\n",
       "    </tr>\n",
       "    <tr>\n",
       "      <th id=\"T_cc4a7_level0_row1\" class=\"row_heading level0 row1\" >51</th>\n",
       "      <td id=\"T_cc4a7_row1_col0\" class=\"data row1 col0\" >10.000000</td>\n",
       "      <td id=\"T_cc4a7_row1_col1\" class=\"data row1 col1\" >9.000000</td>\n",
       "      <td id=\"T_cc4a7_row1_col2\" class=\"data row1 col2\" >9.000000</td>\n",
       "      <td id=\"T_cc4a7_row1_col3\" class=\"data row1 col3\" >0.000000</td>\n",
       "      <td id=\"T_cc4a7_row1_col4\" class=\"data row1 col4\" >0.000000</td>\n",
       "      <td id=\"T_cc4a7_row1_col5\" class=\"data row1 col5\" >0.000000</td>\n",
       "      <td id=\"T_cc4a7_row1_col6\" class=\"data row1 col6\" >0.000000</td>\n",
       "      <td id=\"T_cc4a7_row1_col7\" class=\"data row1 col7\" >0.000000</td>\n",
       "      <td id=\"T_cc4a7_row1_col8\" class=\"data row1 col8\" >0.000000</td>\n",
       "      <td id=\"T_cc4a7_row1_col9\" class=\"data row1 col9\" >10.000000</td>\n",
       "    </tr>\n",
       "    <tr>\n",
       "      <th id=\"T_cc4a7_level0_row2\" class=\"row_heading level0 row2\" >526</th>\n",
       "      <td id=\"T_cc4a7_row2_col0\" class=\"data row2 col0\" >0.000000</td>\n",
       "      <td id=\"T_cc4a7_row2_col1\" class=\"data row2 col1\" >0.000000</td>\n",
       "      <td id=\"T_cc4a7_row2_col2\" class=\"data row2 col2\" >0.000000</td>\n",
       "      <td id=\"T_cc4a7_row2_col3\" class=\"data row2 col3\" >0.000000</td>\n",
       "      <td id=\"T_cc4a7_row2_col4\" class=\"data row2 col4\" >0.000000</td>\n",
       "      <td id=\"T_cc4a7_row2_col5\" class=\"data row2 col5\" >0.000000</td>\n",
       "      <td id=\"T_cc4a7_row2_col6\" class=\"data row2 col6\" >0.000000</td>\n",
       "      <td id=\"T_cc4a7_row2_col7\" class=\"data row2 col7\" >0.000000</td>\n",
       "      <td id=\"T_cc4a7_row2_col8\" class=\"data row2 col8\" >0.000000</td>\n",
       "      <td id=\"T_cc4a7_row2_col9\" class=\"data row2 col9\" >0.000000</td>\n",
       "    </tr>\n",
       "    <tr>\n",
       "      <th id=\"T_cc4a7_level0_row3\" class=\"row_heading level0 row3\" >652</th>\n",
       "      <td id=\"T_cc4a7_row3_col0\" class=\"data row3 col0\" >0.000000</td>\n",
       "      <td id=\"T_cc4a7_row3_col1\" class=\"data row3 col1\" >0.000000</td>\n",
       "      <td id=\"T_cc4a7_row3_col2\" class=\"data row3 col2\" >0.000000</td>\n",
       "      <td id=\"T_cc4a7_row3_col3\" class=\"data row3 col3\" >0.000000</td>\n",
       "      <td id=\"T_cc4a7_row3_col4\" class=\"data row3 col4\" >0.000000</td>\n",
       "      <td id=\"T_cc4a7_row3_col5\" class=\"data row3 col5\" >0.000000</td>\n",
       "      <td id=\"T_cc4a7_row3_col6\" class=\"data row3 col6\" >0.000000</td>\n",
       "      <td id=\"T_cc4a7_row3_col7\" class=\"data row3 col7\" >0.000000</td>\n",
       "      <td id=\"T_cc4a7_row3_col8\" class=\"data row3 col8\" >0.000000</td>\n",
       "      <td id=\"T_cc4a7_row3_col9\" class=\"data row3 col9\" >0.000000</td>\n",
       "    </tr>\n",
       "    <tr>\n",
       "      <th id=\"T_cc4a7_level0_row4\" class=\"row_heading level0 row4\" >950</th>\n",
       "      <td id=\"T_cc4a7_row4_col0\" class=\"data row4 col0\" >9.000000</td>\n",
       "      <td id=\"T_cc4a7_row4_col1\" class=\"data row4 col1\" >0.000000</td>\n",
       "      <td id=\"T_cc4a7_row4_col2\" class=\"data row4 col2\" >0.000000</td>\n",
       "      <td id=\"T_cc4a7_row4_col3\" class=\"data row4 col3\" >0.000000</td>\n",
       "      <td id=\"T_cc4a7_row4_col4\" class=\"data row4 col4\" >0.000000</td>\n",
       "      <td id=\"T_cc4a7_row4_col5\" class=\"data row4 col5\" >0.000000</td>\n",
       "      <td id=\"T_cc4a7_row4_col6\" class=\"data row4 col6\" >0.000000</td>\n",
       "      <td id=\"T_cc4a7_row4_col7\" class=\"data row4 col7\" >0.000000</td>\n",
       "      <td id=\"T_cc4a7_row4_col8\" class=\"data row4 col8\" >0.000000</td>\n",
       "      <td id=\"T_cc4a7_row4_col9\" class=\"data row4 col9\" >0.000000</td>\n",
       "    </tr>\n",
       "  </tbody>\n",
       "</table>\n"
      ],
      "text/plain": [
       "<pandas.io.formats.style.Styler at 0x1ec82d79150>"
      ]
     },
     "metadata": {},
     "output_type": "display_data"
    }
   ],
   "source": [
    "# Function to get top N similar users for a given user\n",
    "def get_top_similar_users(user_id, top_n=5):\n",
    "    try:\n",
    "        user_index = user_item_matrix.index.get_loc(user_id)\n",
    "    except KeyError:\n",
    "        print(f\"No similar users found for user with ID {user_id}.\")\n",
    "        return None\n",
    "\n",
    "    similar_users = user_similarity[user_index]\n",
    "    similar_users_indices = similar_users.argsort()[-top_n-1:-1][::-1]\n",
    "    return user_item_matrix.iloc[similar_users_indices]\n",
    "\n",
    "user_id = 200\n",
    "similar_users = get_top_similar_users(user_id, top_n=5)\n",
    "if similar_users is not None:\n",
    "    styled_similar_users = similar_users.iloc[:, :10].style.set_table_styles([\n",
    "        {\"selector\": \"th\", \"props\": [(\"background-color\", \"#264653\"), (\"color\", \"white\"), (\"border\", \"1.5px solid #264653\")]},\n",
    "        {\"selector\": \"td\", \"props\": [(\"border\", \"1.5px solid #264653\")]}\n",
    "    ])\n",
    "    print(\"Top 5 similar users for user\", user_id)\n",
    "    display(styled_similar_users)\n",
    "\n",
    "\n"
   ]
  },
  {
   "cell_type": "code",
   "execution_count": 58,
   "metadata": {},
   "outputs": [
    {
     "name": "stdout",
     "output_type": "stream",
     "text": [
      "No similar users found for user with ID 199.\n"
     ]
    }
   ],
   "source": [
    "user_id = 199\n",
    "similar_users = get_top_similar_users(user_id, top_n=5)\n",
    "if similar_users is not None:\n",
    "    styled_similar_users = similar_users.iloc[:, :10]\n",
    "    print(\"Top 5 similar users for user\", user_id)\n",
    "    display(styled_similar_users)"
   ]
  }
 ],
 "metadata": {
  "kernelspec": {
   "display_name": "Python 3",
   "language": "python",
   "name": "python3"
  },
  "language_info": {
   "codemirror_mode": {
    "name": "ipython",
    "version": 3
   },
   "file_extension": ".py",
   "mimetype": "text/x-python",
   "name": "python",
   "nbconvert_exporter": "python",
   "pygments_lexer": "ipython3",
   "version": "3.11.5"
  }
 },
 "nbformat": 4,
 "nbformat_minor": 2
}
